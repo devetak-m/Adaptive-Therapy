{
 "cells": [
  {
   "cell_type": "code",
   "execution_count": 2,
   "metadata": {},
   "outputs": [],
   "source": [
    "import numpy as np\n",
    "import matplotlib.pyplot as plt\n",
    "from test_parameters import *"
   ]
  },
  {
   "cell_type": "code",
   "execution_count": 3,
   "metadata": {},
   "outputs": [],
   "source": [
    "def therapy_drug_concentration(N, parameters):\n",
    "\n",
    "    therapy_type = parameters['therapy_type']\n",
    "    maximum_tollerated_dose = parameters['maximum_tollerated_dose']\n",
    "\n",
    "    if therapy_type == 'continuous':\n",
    "        return maximum_tollerated_dose\n",
    "    if therapy_type == 'notherapy':\n",
    "        return 0\n",
    "    elif therapy_type == 'adaptive':\n",
    "        N0 = parameters['S0'] + parameters['R0']\n",
    "        if N > 0.5 * N0:\n",
    "            return maximum_tollerated_dose\n",
    "        else:\n",
    "            return 0"
   ]
  },
  {
   "cell_type": "code",
   "execution_count": 4,
   "metadata": {},
   "outputs": [],
   "source": [
    "def one_step(S, R, time_step, parameters):\n",
    "\n",
    "    growth_rate_S = parameters['growth_rate_S']\n",
    "    growth_rate_R = parameters['growth_rate_R']\n",
    "    carrying_capacity = parameters['carrying_capacity']\n",
    "    maximum_tollerated_dose = parameters['maximum_tollerated_dose']\n",
    "    death_rate_S = parameters['death_rate_S']\n",
    "    death_rate_R = parameters['death_rate_R']\n",
    "    division_rate = parameters['division_rate']\n",
    "\n",
    "    N = S + R\n",
    "    current_carrying_capacity = N / carrying_capacity\n",
    "\n",
    "    D = therapy_drug_concentration(N, parameters)/maximum_tollerated_dose\n",
    "    \n",
    "    effective_growth_rate_S = growth_rate_S * (1 - current_carrying_capacity) * (1 - 2*division_rate*D)\n",
    "    effective_growth_rate_R = growth_rate_R * (1 - current_carrying_capacity)\n",
    "\n",
    "    dS = effective_growth_rate_S * S - death_rate_S * S\n",
    "    dR = effective_growth_rate_R * R - death_rate_R * R\n",
    "\n",
    "    S1 = S + dS * time_step\n",
    "    R1 = R + dR * time_step\n",
    "\n",
    "    return [S1, R1, D]"
   ]
  },
  {
   "cell_type": "code",
   "execution_count": 5,
   "metadata": {},
   "outputs": [],
   "source": [
    "def two_step(S, R, time_step, parameters):\n",
    "    \n",
    "    SR1 = one_step(S, R, time_step/2, parameters)\n",
    "    SR2 = one_step(SR1[0], SR1[1], time_step/2, parameters)\n",
    "\n",
    "    return SR2"
   ]
  },
  {
   "cell_type": "code",
   "execution_count": 6,
   "metadata": {},
   "outputs": [],
   "source": [
    "def ode_model(parameters, verbose=False):\n",
    "\n",
    "\n",
    "    time_step = parameters['time_step']\n",
    "    tolerance = parameters['tolerance']\n",
    "\n",
    "    time_start = parameters['time_start']\n",
    "    time_end = parameters['time_end']\n",
    "\n",
    "    S0 = parameters['S0']\n",
    "    R0 = parameters['R0']\n",
    "    N0 = S0 + R0\n",
    "    D0 = 0\n",
    "\n",
    "\n",
    "    initial_size = int((time_end - time_start) / time_step)\n",
    "\n",
    "    # Initialize arrays\n",
    "    S = np.zeros(initial_size)\n",
    "    R = np.zeros(initial_size)\n",
    "    N = np.zeros(initial_size)\n",
    "    T = np.zeros(initial_size)\n",
    "    D = np.zeros(initial_size)\n",
    "\n",
    "    current_time = time_start\n",
    "    current_index = 0\n",
    "\n",
    "    S[current_index] = S0\n",
    "    R[current_index] = R0\n",
    "    N[current_index] = N0\n",
    "    T[current_index] = current_time\n",
    "    D[current_index] = D0\n",
    "\n",
    "    while current_time + time_step < time_end:\n",
    "\n",
    "        \n",
    "        SR_1 = one_step(S[current_index], R[current_index], time_step, parameters)\n",
    "        SR_2 = two_step(S[current_index], R[current_index], time_step, parameters)\n",
    "        \n",
    "        error = abs(SR_1[0] - SR_2[0]) + abs(SR_1[1] - SR_2[1])\n",
    "\n",
    "        if verbose == True:\n",
    "            print(\"Error: \", error)\n",
    "            print(\"Time step: \", time_step)\n",
    "            print(\"Current time: \", current_time)\n",
    "            print(\"Tolerance: \", tolerance)\n",
    "            print(\"\")\n",
    "\n",
    "        if error < 10 * tolerance:\n",
    "            S[current_index + 1] = SR_2[0]\n",
    "            R[current_index + 1] = SR_2[1]\n",
    "            N[current_index + 1] = S[current_index + 1] + R[current_index + 1]\n",
    "            T[current_index + 1] = current_time + time_step\n",
    "            D[current_index + 1] = SR_2[2]\n",
    "            current_time += time_step\n",
    "            current_index += 1\n",
    "            # time_step = time_step/2\n",
    "        elif error < tolerance:\n",
    "            S[current_index + 1] = SR_2[0]\n",
    "            R[current_index + 1] = SR_2[1]\n",
    "            N[current_index + 1] = S[current_index + 1] + R[current_index + 1]\n",
    "            T[current_index + 1] = current_time + time_step\n",
    "            D[current_index + 1] = SR_2[2]\n",
    "            current_time += time_step\n",
    "            current_index += 1\n",
    "        else:\n",
    "            time_step = time_step/2\n",
    "        \n",
    "        if current_index == len(S) - 1:\n",
    "            S = np.concatenate((S, np.zeros(len(S))))\n",
    "            R = np.concatenate((R, np.zeros(len(R))))\n",
    "            N = np.concatenate((N, np.zeros(len(N))))\n",
    "            T = np.concatenate((T, np.zeros(len(T))))\n",
    "            D = np.concatenate((D, np.zeros(len(D))))\n",
    "\n",
    "    SR = two_step(S[current_index], R[current_index], time_end - current_time, parameters)\n",
    "    S[current_index + 1] = SR[0]\n",
    "    R[current_index + 1] = SR[1]\n",
    "    N[current_index + 1] = S[current_index + 1] + R[current_index + 1]\n",
    "    T[current_index + 1] = time_end\n",
    "    current_index += 1\n",
    "\n",
    "    return S[:current_index], R[:current_index], N[:current_index], T[:current_index], D[:current_index]"
   ]
  },
  {
   "cell_type": "code",
   "execution_count": 13,
   "metadata": {},
   "outputs": [
    {
     "name": "stdout",
     "output_type": "stream",
     "text": [
      "All tests passed\n"
     ]
    },
    {
     "data": {
      "image/png": "[encoded data removed]",
      "text/plain": [
       "<Figure size 432x288 with 1 Axes>"
      ]
     },
     "metadata": {
      "needs_background": "light"
     },
     "output_type": "display_data"
    }
   ],
   "source": [
    "#play around with parameters and maybe have less killing\n",
    "\n",
    "parameters = {\n",
    "    'time_start': 0,                                  \n",
    "    'time_end': 2000,\n",
    "    'time_step': 0.1,\n",
    "    'tolerance': 100,\n",
    "    'S0': 0.5,\n",
    "    'R0': 0.0075,\n",
    "    'growth_rate_S': 0.03,\n",
    "    'growth_rate_R': 0.03,\n",
    "    'carrying_capacity': 10,\n",
    "    'maximum_tollerated_dose': 0.8,\n",
    "    'death_rate_S': 0.03,\n",
    "    'death_rate_R': 0.02,\n",
    "    'division_rate': 0.04,\n",
    "    'therapy_type': 'adaptive'\n",
    "}\n",
    "\n",
    "test_parameters(parameters)\n",
    "\n",
    "S, R, N, T, D = ode_model(parameters, verbose=False)\n",
    "\n",
    "plt.plot(T, S, label='S')\n",
    "plt.plot(T, R, label='R')\n",
    "plt.plot(T, N, label='N', linestyle='--')\n",
    "plt.plot(T, D, label='D')\n",
    "plt.legend()\n",
    "plt.show()"
   ]
  },
  {
   "cell_type": "code",
   "execution_count": null,
   "metadata": {},
   "outputs": [],
   "source": []
  }
 ],
 "metadata": {
  "kernelspec": {
   "display_name": "Python 3",
   "language": "python",
   "name": "python3"
  },
  "language_info": {
   "codemirror_mode": {
    "name": "ipython",
    "version": 3
   },
   "file_extension": ".py",
   "mimetype": "text/x-python",
   "name": "python",
   "nbconvert_exporter": "python",
   "pygments_lexer": "ipython3",
   "version": "3.7.3"
  }
 },
 "nbformat": 4,
 "nbformat_minor": 2
}
